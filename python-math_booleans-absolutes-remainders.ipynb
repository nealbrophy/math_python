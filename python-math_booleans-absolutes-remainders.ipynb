{
 "cells": [
  {
   "cell_type": "code",
   "execution_count": 1,
   "metadata": {},
   "outputs": [],
   "source": [
    "from IPython.display import display, Math"
   ]
  },
  {
   "cell_type": "code",
   "execution_count": 19,
   "metadata": {},
   "outputs": [],
   "source": [
    "x = 2\n",
    "# x = 3\n",
    "# x = 20"
   ]
  },
  {
   "cell_type": "code",
   "execution_count": 20,
   "metadata": {},
   "outputs": [
    {
     "data": {
      "text/latex": [
       "$\\displaystyle 4x+3<17-x^2$"
      ],
      "text/plain": [
       "<IPython.core.display.Math object>"
      ]
     },
     "metadata": {},
     "output_type": "display_data"
    },
    {
     "data": {
      "text/plain": [
       "True"
      ]
     },
     "execution_count": 20,
     "metadata": {},
     "output_type": "execute_result"
    }
   ],
   "source": [
    "display(Math('4x+3<17-x^2'))\n",
    "4*x+3 <= 17 - x**2"
   ]
  },
  {
   "cell_type": "code",
   "execution_count": 21,
   "metadata": {},
   "outputs": [
    {
     "data": {
      "text/latex": [
       "$\\displaystyle 8x-2\\leq-3x+42$"
      ],
      "text/plain": [
       "<IPython.core.display.Math object>"
      ]
     },
     "metadata": {},
     "output_type": "display_data"
    },
    {
     "data": {
      "text/plain": [
       "True"
      ]
     },
     "execution_count": 21,
     "metadata": {},
     "output_type": "execute_result"
    }
   ],
   "source": [
    "display(Math('8x-2\\\\leq-3x+42'))\n",
    "8*x-2 <= -3*x+42"
   ]
  },
  {
   "cell_type": "code",
   "execution_count": 26,
   "metadata": {},
   "outputs": [
    {
     "data": {
      "text/latex": [
       "$\\displaystyle 1^{-1} = 1$"
      ],
      "text/plain": [
       "<IPython.core.display.Math object>"
      ]
     },
     "metadata": {},
     "output_type": "display_data"
    },
    {
     "data": {
      "text/latex": [
       "$\\displaystyle 1^{-2} = 1$"
      ],
      "text/plain": [
       "<IPython.core.display.Math object>"
      ]
     },
     "metadata": {},
     "output_type": "display_data"
    },
    {
     "data": {
      "text/latex": [
       "$\\displaystyle 1^{-3} = 1$"
      ],
      "text/plain": [
       "<IPython.core.display.Math object>"
      ]
     },
     "metadata": {},
     "output_type": "display_data"
    },
    {
     "data": {
      "text/latex": [
       "$\\displaystyle 1^{-4} = 1$"
      ],
      "text/plain": [
       "<IPython.core.display.Math object>"
      ]
     },
     "metadata": {},
     "output_type": "display_data"
    },
    {
     "data": {
      "text/latex": [
       "$\\displaystyle 2^{-1} = 0.5$"
      ],
      "text/plain": [
       "<IPython.core.display.Math object>"
      ]
     },
     "metadata": {},
     "output_type": "display_data"
    },
    {
     "data": {
      "text/latex": [
       "$\\displaystyle 2^{-2} = 0.25$"
      ],
      "text/plain": [
       "<IPython.core.display.Math object>"
      ]
     },
     "metadata": {},
     "output_type": "display_data"
    },
    {
     "data": {
      "text/latex": [
       "$\\displaystyle 2^{-3} = 0.125$"
      ],
      "text/plain": [
       "<IPython.core.display.Math object>"
      ]
     },
     "metadata": {},
     "output_type": "display_data"
    },
    {
     "data": {
      "text/latex": [
       "$\\displaystyle 2^{-4} = 0.0625$"
      ],
      "text/plain": [
       "<IPython.core.display.Math object>"
      ]
     },
     "metadata": {},
     "output_type": "display_data"
    },
    {
     "data": {
      "text/latex": [
       "$\\displaystyle 3^{-1} = 0.333333$"
      ],
      "text/plain": [
       "<IPython.core.display.Math object>"
      ]
     },
     "metadata": {},
     "output_type": "display_data"
    },
    {
     "data": {
      "text/latex": [
       "$\\displaystyle 3^{-2} = 0.111111$"
      ],
      "text/plain": [
       "<IPython.core.display.Math object>"
      ]
     },
     "metadata": {},
     "output_type": "display_data"
    },
    {
     "data": {
      "text/latex": [
       "$\\displaystyle 3^{-3} = 0.037037$"
      ],
      "text/plain": [
       "<IPython.core.display.Math object>"
      ]
     },
     "metadata": {},
     "output_type": "display_data"
    },
    {
     "data": {
      "text/latex": [
       "$\\displaystyle 3^{-4} = 0.0123457$"
      ],
      "text/plain": [
       "<IPython.core.display.Math object>"
      ]
     },
     "metadata": {},
     "output_type": "display_data"
    }
   ],
   "source": [
    "for i in range(0,4):\n",
    "    for j in range(0,5):\n",
    "        if i>0 and j>0:\n",
    "            display(Math('%g^{-%g} = %g' %(i,j,i**-j)))\n",
    "        else:\n",
    "            continue"
   ]
  },
  {
   "cell_type": "code",
   "execution_count": 29,
   "metadata": {},
   "outputs": [
    {
     "data": {
      "text/latex": [
       "$\\displaystyle |-4.3|=4.3$"
      ],
      "text/plain": [
       "<IPython.core.display.Math object>"
      ]
     },
     "metadata": {},
     "output_type": "display_data"
    }
   ],
   "source": [
    "x = -4.3\n",
    "display(Math('|%g|=%g' %(x,abs(x))))"
   ]
  },
  {
   "cell_type": "code",
   "execution_count": 30,
   "metadata": {},
   "outputs": [
    {
     "name": "stdout",
     "output_type": "stream",
     "text": [
      "-4 was not tested.\n",
      "Absolute value of 6 is 6.\n",
      "-1 was not tested.\n",
      "Absolute value of 43 is 43.\n",
      "Absolute value of -18 is 18.\n",
      "2 was not tested.\n",
      "0 was not tested.\n"
     ]
    }
   ],
   "source": [
    "num_set = [-4,6,-1,43,-18,2,0]\n",
    "\n",
    "for i in num_set:\n",
    "    if i <-5 or i >2:\n",
    "        print(f'Absolute value of {i} is {abs(i)}.')\n",
    "    else:\n",
    "        print(f'{i} was not tested.')"
   ]
  },
  {
   "cell_type": "code",
   "execution_count": 34,
   "metadata": {},
   "outputs": [
    {
     "name": "stdout",
     "output_type": "stream",
     "text": [
      "-5 is an odd  number.\n",
      "-4 is an even number.\n",
      "-3 is an odd  number.\n",
      "-2 is an even number.\n",
      "-1 is an odd  number.\n",
      " 0 is an even number.\n",
      " 1 is an odd  number.\n",
      " 2 is an even number.\n",
      " 3 is an odd  number.\n",
      " 4 is an even number.\n",
      " 5 is an odd  number.\n"
     ]
    }
   ],
   "source": [
    "for num in range(-5,6):\n",
    "    if num < 0:\n",
    "        if num % 2:\n",
    "            print(f'{num} is an odd  number.')\n",
    "        else:\n",
    "            print(f'{num} is an even number.')\n",
    "    else:\n",
    "        if num % 2:\n",
    "            print(f' {num} is an odd  number.')\n",
    "        else:\n",
    "            print(f' {num} is an even number.')"
   ]
  },
  {
   "cell_type": "code",
   "execution_count": 69,
   "metadata": {},
   "outputs": [],
   "source": [
    "def code_chal():\n",
    "    x = float(input('Enter first number:'))\n",
    "    y = float(input('Enter second number:'))\n",
    "    \n",
    "#     choice = int(input(f\"Enter 1 to compute {x}^{y} or 2 to compute {x}/{y}\"))\n",
    "    display(Math('\\\\text{Press 1 to calc }%g^%g\\\\text{, or 2 to cal }%g\\\\div%g' %(x,y,x,y)))\n",
    "    choice = float(input(''))\n",
    "    if choice == 1:\n",
    "        display(Math('%g^%g=%g' %(x,y,x**y)))\n",
    "    elif choice == 2:\n",
    "        display(Math('%g\\\\div%g=%g' %(x,y,x/y)))\n",
    "    else:\n",
    "        print('Invalid selection!')"
   ]
  },
  {
   "cell_type": "code",
   "execution_count": 68,
   "metadata": {},
   "outputs": [
    {
     "name": "stdout",
     "output_type": "stream",
     "text": [
      "Enter first number:8\n",
      "Enter second number:5\n"
     ]
    },
    {
     "data": {
      "text/latex": [
       "$\\displaystyle \\text{Press 1 to calc }8^5\\text{, or 2 to cal }8\\div5$"
      ],
      "text/plain": [
       "<IPython.core.display.Math object>"
      ]
     },
     "metadata": {},
     "output_type": "display_data"
    },
    {
     "name": "stdout",
     "output_type": "stream",
     "text": [
      "1\n"
     ]
    },
    {
     "data": {
      "text/latex": [
       "$\\displaystyle 8^5=32768$"
      ],
      "text/plain": [
       "<IPython.core.display.Math object>"
      ]
     },
     "metadata": {},
     "output_type": "display_data"
    }
   ],
   "source": [
    "code_chal()"
   ]
  },
  {
   "cell_type": "code",
   "execution_count": 84,
   "metadata": {},
   "outputs": [],
   "source": [
    "import random\n",
    "\n",
    "def guessing_game():\n",
    "    target = random.randint(1,101)\n",
    "    guess = 0\n",
    "    while guess != target:\n",
    "        print('Guess a whole number between 1 and 100.')\n",
    "        guess = input(\"Guess:\")\n",
    "        if guess.isdigit():\n",
    "            if int(guess) < target:\n",
    "                print('Too low! Guess again!')\n",
    "            elif int(guess) > target:\n",
    "                print('Too high! Guess again!')\n",
    "            elif int(guess) == target:\n",
    "                print(f'Nailed it! {guess} was the right number!')\n",
    "                break\n",
    "        else:\n",
    "            print('Invalid! Try again!')"
   ]
  },
  {
   "cell_type": "code",
   "execution_count": 85,
   "metadata": {},
   "outputs": [
    {
     "name": "stdout",
     "output_type": "stream",
     "text": [
      "Guess a whole number between 1 and 100.\n",
      "Guess:\n",
      "Invalid! Try again!\n",
      "Guess a whole number between 1 and 100.\n",
      "Guess:g\n",
      "Invalid! Try again!\n",
      "Guess a whole number between 1 and 100.\n",
      "Guess:6\n",
      "Too low! Guess again!\n",
      "Guess a whole number between 1 and 100.\n",
      "Guess:90\n",
      "Too high! Guess again!\n",
      "Guess a whole number between 1 and 100.\n",
      "Guess:80\n",
      "Too high! Guess again!\n",
      "Guess a whole number between 1 and 100.\n",
      "Guess:70\n",
      "Too high! Guess again!\n",
      "Guess a whole number between 1 and 100.\n",
      "Guess:60\n",
      "Too low! Guess again!\n",
      "Guess a whole number between 1 and 100.\n",
      "Guess:68\n",
      "Too high! Guess again!\n",
      "Guess a whole number between 1 and 100.\n",
      "Guess:67\n",
      "Nailed it! 67 was the right number!\n"
     ]
    }
   ],
   "source": [
    "guessing_game()"
   ]
  },
  {
   "cell_type": "code",
   "execution_count": null,
   "metadata": {},
   "outputs": [],
   "source": []
  }
 ],
 "metadata": {
  "kernelspec": {
   "display_name": "Python 3",
   "language": "python",
   "name": "python3"
  },
  "language_info": {
   "codemirror_mode": {
    "name": "ipython",
    "version": 3
   },
   "file_extension": ".py",
   "mimetype": "text/x-python",
   "name": "python",
   "nbconvert_exporter": "python",
   "pygments_lexer": "ipython3",
   "version": "3.8.6"
  }
 },
 "nbformat": 4,
 "nbformat_minor": 4
}
